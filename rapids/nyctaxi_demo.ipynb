{
 "cells": [
  {
   "cell_type": "code",
   "execution_count": 1,
   "metadata": {},
   "outputs": [],
   "source": [
    "import os\n",
    "import socket"
   ]
  },
  {
   "cell_type": "code",
   "execution_count": 2,
   "metadata": {},
   "outputs": [],
   "source": [
    "import dask\n",
    "import dask_cudf\n",
    "import distributed\n",
    "import dask_xgboost as dxgb"
   ]
  },
  {
   "cell_type": "code",
   "execution_count": 3,
   "metadata": {},
   "outputs": [
    {
     "name": "stdout",
     "output_type": "stream",
     "text": [
      "- setting dask settings\n",
      "-- Changes to dask settings\n",
      "--- Setting work-stealing to  False\n",
      "--- Setting scheduler bandwidth to  1\n",
      "-- Settings updates complete\n"
     ]
    }
   ],
   "source": [
    "print(\"- setting dask settings\")\n",
    "dask.config.set({'distributed.scheduler.work-stealing': False})\n",
    "dask.config.set({'distributed.scheduler.bandwidth': 1})\n",
    "\n",
    "print(\"-- Changes to dask settings\")\n",
    "print(\"--- Setting work-stealing to \", dask.config.get('distributed.scheduler.work-stealing'))\n",
    "print(\"--- Setting scheduler bandwidth to \", dask.config.get('distributed.scheduler.bandwidth'))\n",
    "print(\"-- Settings updates complete\")"
   ]
  },
  {
   "cell_type": "code",
   "execution_count": 4,
   "metadata": {},
   "outputs": [
    {
     "data": {
      "text/html": [
       "<table style=\"border: 2px solid white;\">\n",
       "<tr>\n",
       "<td style=\"vertical-align: top; border: 0px solid white\">\n",
       "<h3 style=\"text-align: left;\">Client</h3>\n",
       "<ul style=\"text-align: left; list-style: none; margin: 0; padding: 0;\">\n",
       "  <li><b>Scheduler: </b>tcp://10.0.0.4:8786</li>\n",
       "  <li><b>Dashboard: </b><a href='http://10.0.0.4:8787/status' target='_blank'>http://10.0.0.4:8787/status</a>\n",
       "</ul>\n",
       "</td>\n",
       "<td style=\"vertical-align: top; border: 0px solid white\">\n",
       "<h3 style=\"text-align: left;\">Cluster</h3>\n",
       "<ul style=\"text-align: left; list-style:none; margin: 0; padding: 0;\">\n",
       "  <li><b>Workers: </b>4</li>\n",
       "  <li><b>Cores: </b>4</li>\n",
       "  <li><b>Memory: </b>0 B</li>\n",
       "</ul>\n",
       "</td>\n",
       "</tr>\n",
       "</table>"
      ],
      "text/plain": [
       "<Client: scheduler='tcp://10.0.0.4:8786' processes=0 cores=0>"
      ]
     },
     "execution_count": 4,
     "metadata": {},
     "output_type": "execute_result"
    }
   ],
   "source": [
    "ip = socket.gethostbyname(socket.gethostname())\n",
    "scheduler = \"tcp://\" + ip + \":8786\"\n",
    "client = distributed.Client(scheduler)\n",
    "client.restart()\n",
    "client"
   ]
  },
  {
   "cell_type": "code",
   "execution_count": 5,
   "metadata": {},
   "outputs": [],
   "source": [
    "# update this path to reflect the datastore from Tracked Metrics if you downloaded the NYC Taxi Trip dataset"
    "datastore = \"/path/to/azure/datastore\""
   ]
  },
  {
   "cell_type": "code",
   "execution_count": 6,
   "metadata": {},
   "outputs": [],
   "source": [
    "# list of column names that need to be re-mapped\n",
    "remap = {}\n",
    "remap['tpep_pickup_datetime'] = 'pickup_datetime'\n",
    "remap['tpep_dropoff_datetime'] = 'dropoff_datetime'\n",
    "remap['ratecodeid'] = 'rate_code'\n",
    "\n",
    "#create a list of columns & dtypes the df must have\n",
    "must_haves = {\n",
    "    'pickup_datetime': 'datetime64[ms]',\n",
    "    'dropoff_datetime': 'datetime64[ms]',\n",
    "    'passenger_count': 'int32',\n",
    "    'trip_distance': 'float32',\n",
    "    'pickup_longitude': 'float32',\n",
    "    'pickup_latitude': 'float32',\n",
    "    'rate_code': 'int32',\n",
    "    'dropoff_longitude': 'float32',\n",
    "    'dropoff_latitude': 'float32',\n",
    "    'fare_amount': 'float32'\n",
    "}"
   ]
  },
  {
   "cell_type": "code",
   "execution_count": 7,
   "metadata": {},
   "outputs": [],
   "source": [
    "# helper function which takes a DataFrame partition\n",
    "def clean(df_part, remap, must_haves):    \n",
    "    # some col-names include pre-pended spaces remove & lowercase column names\n",
    "    tmp = {col:col.strip().lower() for col in list(df_part.columns)}\n",
    "    df_part = df_part.rename(tmp)\n",
    "    \n",
    "    # rename using the supplied mapping\n",
    "    df_part = df_part.rename(remap)\n",
    "    \n",
    "    # iterate through columns in this df partition\n",
    "    for col in df_part.columns:\n",
    "        # drop anything not in our expected list\n",
    "        if col not in must_haves:\n",
    "            df_part = df_part.drop(col)\n",
    "            continue\n",
    "\n",
    "        if df_part[col].dtype == 'object' and col in ['pickup_datetime', 'dropoff_datetime']:\n",
    "            df_part[col] = df_part[col].astype('datetime64[ms]')\n",
    "            continue\n",
    "            \n",
    "        # if column was read as a string, recast as float\n",
    "        if df_part[col].dtype == 'object':\n",
    "            df_part[col] = df_part[col].str.fillna('-1')\n",
    "            df_part[col] = df_part[col].astype('float32')\n",
    "        else:\n",
    "            # downcast from 64bit to 32bit types\n",
    "            # Tesla T4 are faster on 32bit ops\n",
    "            if 'int' in str(df_part[col].dtype):\n",
    "                df_part[col] = df_part[col].astype('int32')\n",
    "            if 'float' in str(df_part[col].dtype):\n",
    "                df_part[col] = df_part[col].astype('float32')\n",
    "            df_part[col] = df_part[col].fillna(-1)\n",
    "    \n",
    "    return df_part"
   ]
  },
  {
   "cell_type": "code",
   "execution_count": 8,
   "metadata": {},
   "outputs": [],
   "source": [
    "# adjust this dictionary list if you'd like to use different year in this workload\n",
    "is_valid_years = {\n",
    "    \"2014\": False,\n",
    "    \"2015\": False,\n",
    "    \"2016\": True\n",
    "}"
   ]
  },
  {
   "cell_type": "code",
   "execution_count": 9,
   "metadata": {},
   "outputs": [
    {
     "name": "stdout",
     "output_type": "stream",
     "text": [
      "WARNING: the NYC Taxi Trip Data was not found in the Azure datastore\n",
      "WARNING: updating the data path to use a public datastore\n",
      "WARNING: data will be downloaded and processed in-situ\n",
      "WARNING: this degrades performance\n",
      "WARNING: to avoid this performance degradation, use the `--download_nyctaxi_data=True` option when using start_azureml.py\n"
     ]
    }
   ],
   "source": [
    "data_path = os.path.join(datastore, \"data/nyctaxi\")\n",
    "\n",
    "dfs = []\n",
    "if not os.path.exists(data_path):\n",
    "    print(\"WARNING: the NYC Taxi Trip Data was not found in the Azure datastore\")\n",
    "    print(\"WARNING: updating the data path to use a public datastore\")\n",
    "    print(\"WARNING: data will be downloaded and processed in-situ\")\n",
    "    print(\"WARNING: this degrades performance\")\n",
    "    print(\"WARNING: to avoid this performance degradation, use the `--download_nyctaxi_data=True` option when using start_azureml.py\")\n",
    "    data_path = \"gcs://anaconda-public-data/nyc-taxi/csv/\"\n",
    "    if is_valid_years[\"2014\"]:\n",
    "        taxi_df_2014 = dask_cudf.read_csv(os.path.join(data_path, \"2014/yellow_*.csv\"))\n",
    "        taxi_df_2014 = taxi_df_2014.map_partitions(clean, remap, must_haves)\n",
    "        dfs.append(taxi_df_2014)\n",
    "    if is_valid_years[\"2015\"]:\n",
    "        taxi_df_2015 = dask_cudf.read_csv(os.path.join(data_path, \"2015/yellow_*.csv\"))\n",
    "        taxi_df_2015 = taxi_df_2015.map_partitions(clean, remap, must_haves)\n",
    "        dfs.append(taxi_df_2015)\n",
    "    if is_valid_years[\"2016\"]:\n",
    "        valid_months_2016 = [str(x).rjust(2, '0') for x in range(1, 7)]\n",
    "        valid_files_2016 = [os.path.join(data_path, \"2016/yellow_tripdata_2016-{}.csv\".format(month)) for month in valid_months_2016]\n",
    "        taxi_df_2016 = dask_cudf.read_csv(valid_files_2016)\n",
    "        taxi_df_2016 = taxi_df_2016.map_partitions(clean, remap, must_haves)\n",
    "        dfs.append(taxi_df_2016)\n",
    "else:\n",
    "    if is_valid_years[\"2014\"] and os.path.exists(os.path.join(data_path, \"2014\")):\n",
    "        taxi_df_2014 = dask_cudf.read_csv(os.path.join(data_path, \"2014/yellow_*.csv\"))\n",
    "        taxi_df_2014 = taxi_df_2014.map_partitions(clean, remap, must_haves)\n",
    "        dfs.append(taxi_df_2014)\n",
    "    if is_valid_years[\"2015\"] and os.path.exists(os.path.join(data_path, \"2014\")):\n",
    "        taxi_df_2015 = dask_cudf.read_csv(os.path.join(data_path, \"2015/yellow_*.csv\"))\n",
    "        taxi_df_2015 = taxi_df_2015.map_partitions(clean, remap, must_haves)\n",
    "        dfs.append(taxi_df_2015)\n",
    "    if is_valid_years[\"2016\"] and os.path.exists(os.path.join(data_path, \"2014\")):\n",
    "        taxi_df_2016 = dask_cudf.read_csv(os.path.join(data_path, \"2016/yellow_*.csv\"))\n",
    "        taxi_df_2016 = taxi_df_2016.map_partitions(clean, remap, must_haves)\n",
    "        dfs.append(taxi_df_2016)\n",
    "\n",
    "taxi_df = dask.dataframe.multi.concat(dfs)"
   ]
  },
  {
   "cell_type": "code",
   "execution_count": 10,
   "metadata": {},
   "outputs": [
    {
     "name": "stdout",
     "output_type": "stream",
     "text": [
      "Column names are as follows:\n",
      "pickup_datetime\n",
      "dropoff_datetime\n",
      "passenger_count\n",
      "trip_distance\n",
      "pickup_longitude\n",
      "pickup_latitude\n",
      "rate_code\n",
      "dropoff_longitude\n",
      "dropoff_latitude\n",
      "fare_amount\n"
     ]
    }
   ],
   "source": [
    "print(\"Column names are as follows:\")\n",
    "for column in taxi_df.columns:\n",
    "    print(column)"
   ]
  },
  {
   "cell_type": "code",
   "execution_count": 11,
   "metadata": {},
   "outputs": [
    {
     "data": {
      "text/html": [
       "<div>\n",
       "<style scoped>\n",
       "    .dataframe tbody tr th:only-of-type {\n",
       "        vertical-align: middle;\n",
       "    }\n",
       "\n",
       "    .dataframe tbody tr th {\n",
       "        vertical-align: top;\n",
       "    }\n",
       "\n",
       "    .dataframe thead th {\n",
       "        text-align: right;\n",
       "    }\n",
       "</style>\n",
       "<table border=\"1\" class=\"dataframe\">\n",
       "  <thead>\n",
       "    <tr style=\"text-align: right;\">\n",
       "      <th></th>\n",
       "      <th>pickup_datetime</th>\n",
       "      <th>dropoff_datetime</th>\n",
       "      <th>passenger_count</th>\n",
       "      <th>trip_distance</th>\n",
       "      <th>pickup_longitude</th>\n",
       "      <th>pickup_latitude</th>\n",
       "      <th>rate_code</th>\n",
       "      <th>dropoff_longitude</th>\n",
       "      <th>dropoff_latitude</th>\n",
       "      <th>fare_amount</th>\n",
       "    </tr>\n",
       "  </thead>\n",
       "  <tbody>\n",
       "    <tr>\n",
       "      <th>0</th>\n",
       "      <td>2016-01-01</td>\n",
       "      <td>2016-01-01</td>\n",
       "      <td>2</td>\n",
       "      <td>1.10</td>\n",
       "      <td>-73.990372</td>\n",
       "      <td>40.734695</td>\n",
       "      <td>1</td>\n",
       "      <td>-73.981842</td>\n",
       "      <td>40.732407</td>\n",
       "      <td>7.5</td>\n",
       "    </tr>\n",
       "    <tr>\n",
       "      <th>1</th>\n",
       "      <td>2016-01-01</td>\n",
       "      <td>2016-01-01</td>\n",
       "      <td>5</td>\n",
       "      <td>4.90</td>\n",
       "      <td>-73.980782</td>\n",
       "      <td>40.729912</td>\n",
       "      <td>1</td>\n",
       "      <td>-73.944473</td>\n",
       "      <td>40.716679</td>\n",
       "      <td>18.0</td>\n",
       "    </tr>\n",
       "    <tr>\n",
       "      <th>2</th>\n",
       "      <td>2016-01-01</td>\n",
       "      <td>2016-01-01</td>\n",
       "      <td>1</td>\n",
       "      <td>10.54</td>\n",
       "      <td>-73.984550</td>\n",
       "      <td>40.679565</td>\n",
       "      <td>1</td>\n",
       "      <td>-73.950272</td>\n",
       "      <td>40.788925</td>\n",
       "      <td>33.0</td>\n",
       "    </tr>\n",
       "    <tr>\n",
       "      <th>3</th>\n",
       "      <td>2016-01-01</td>\n",
       "      <td>2016-01-01</td>\n",
       "      <td>1</td>\n",
       "      <td>4.75</td>\n",
       "      <td>-73.993469</td>\n",
       "      <td>40.718990</td>\n",
       "      <td>1</td>\n",
       "      <td>-73.962242</td>\n",
       "      <td>40.657333</td>\n",
       "      <td>16.5</td>\n",
       "    </tr>\n",
       "    <tr>\n",
       "      <th>4</th>\n",
       "      <td>2016-01-01</td>\n",
       "      <td>2016-01-01</td>\n",
       "      <td>3</td>\n",
       "      <td>1.76</td>\n",
       "      <td>-73.960625</td>\n",
       "      <td>40.781330</td>\n",
       "      <td>1</td>\n",
       "      <td>-73.977264</td>\n",
       "      <td>40.758514</td>\n",
       "      <td>8.0</td>\n",
       "    </tr>\n",
       "  </tbody>\n",
       "</table>\n",
       "</div>"
      ],
      "text/plain": [
       "  pickup_datetime dropoff_datetime  passenger_count  trip_distance  \\\n",
       "0      2016-01-01       2016-01-01                2           1.10   \n",
       "1      2016-01-01       2016-01-01                5           4.90   \n",
       "2      2016-01-01       2016-01-01                1          10.54   \n",
       "3      2016-01-01       2016-01-01                1           4.75   \n",
       "4      2016-01-01       2016-01-01                3           1.76   \n",
       "\n",
       "   pickup_longitude  pickup_latitude  rate_code  dropoff_longitude  \\\n",
       "0        -73.990372        40.734695          1         -73.981842   \n",
       "1        -73.980782        40.729912          1         -73.944473   \n",
       "2        -73.984550        40.679565          1         -73.950272   \n",
       "3        -73.993469        40.718990          1         -73.962242   \n",
       "4        -73.960625        40.781330          1         -73.977264   \n",
       "\n",
       "   dropoff_latitude  fare_amount  \n",
       "0         40.732407          7.5  \n",
       "1         40.716679         18.0  \n",
       "2         40.788925         33.0  \n",
       "3         40.657333         16.5  \n",
       "4         40.758514          8.0  "
      ]
     },
     "execution_count": 11,
     "metadata": {},
     "output_type": "execute_result"
    }
   ],
   "source": [
    "# apply a list of filter conditions to throw out records with missing or outlier values\n",
    "query_frags = [\n",
    "    'fare_amount > 0 and fare_amount < 500',\n",
    "    'passenger_count > 0 and passenger_count < 6',\n",
    "    'pickup_longitude > -75 and pickup_longitude < -73',\n",
    "    'dropoff_longitude > -75 and dropoff_longitude < -73',\n",
    "    'pickup_latitude > 40 and pickup_latitude < 42',\n",
    "    'dropoff_latitude > 40 and dropoff_latitude < 42'\n",
    "]\n",
    "taxi_df = taxi_df.query(' and '.join(query_frags))\n",
    "\n",
    "# inspect the results of cleaning\n",
    "taxi_df.head().to_pandas()"
   ]
  },
  {
   "cell_type": "code",
   "execution_count": 12,
   "metadata": {},
   "outputs": [],
   "source": [
    "import math\n",
    "from math import cos, sin, asin, sqrt, pi\n",
    "import numpy as np\n",
    "\n",
    "def haversine_distance_kernel(pickup_latitude, pickup_longitude, dropoff_latitude, dropoff_longitude, h_distance):\n",
    "    for i, (x_1, y_1, x_2, y_2) in enumerate(zip(pickup_latitude, pickup_longitude, dropoff_latitude, dropoff_longitude)):\n",
    "        x_1 = pi / 180 * x_1\n",
    "        y_1 = pi / 180 * y_1\n",
    "        x_2 = pi / 180 * x_2\n",
    "        y_2 = pi / 180 * y_2\n",
    "        \n",
    "        dlon = y_2 - y_1\n",
    "        dlat = x_2 - x_1\n",
    "        a = sin(dlat / 2)**2 + cos(x_1) * cos(x_2) * sin(dlon / 2)**2\n",
    "        \n",
    "        c = 2 * asin(sqrt(a)) \n",
    "        r = 6371 # Radius of earth in kilometers\n",
    "        \n",
    "        h_distance[i] = c * r\n",
    "\n",
    "def day_of_the_week_kernel(day, month, year, day_of_week):\n",
    "    for i, (d_1, m_1, y_1) in enumerate(zip(day, month, year)):\n",
    "        if month[i] < 3:\n",
    "            shift = month[i]\n",
    "        else:\n",
    "            shift = 0\n",
    "        Y = year[i] - (month[i] < 3)\n",
    "        y = Y - 2000\n",
    "        c = 20\n",
    "        d = day[i]\n",
    "        m = month[i] + shift + 1\n",
    "        day_of_week[i] = (d + math.floor(m * 2.6) + y + (y // 4) + (c // 4) - 2 * c) % 7\n",
    "        \n",
    "def add_features(df):\n",
    "    df['hour'] = df['pickup_datetime'].dt.hour\n",
    "    df['year'] = df['pickup_datetime'].dt.year\n",
    "    df['month'] = df['pickup_datetime'].dt.month\n",
    "    df['day'] = df['pickup_datetime'].dt.day\n",
    "    df['diff'] = df['dropoff_datetime'].astype('int32') - df['pickup_datetime'].astype('int32')\n",
    "    \n",
    "    df['pickup_latitude_r'] = df['pickup_latitude'] // .01 * .01\n",
    "    df['pickup_longitude_r'] = df['pickup_longitude'] // .01 * .01\n",
    "    df['dropoff_latitude_r'] = df['dropoff_latitude'] // .01 * .01\n",
    "    df['dropoff_longitude_r'] = df['dropoff_longitude'] // .01 * .01\n",
    "    \n",
    "    df = df.drop('pickup_datetime')\n",
    "    df = df.drop('dropoff_datetime')\n",
    "\n",
    "    df = df.apply_rows(haversine_distance_kernel,\n",
    "                       incols=['pickup_latitude', 'pickup_longitude', 'dropoff_latitude', 'dropoff_longitude'],\n",
    "                       outcols=dict(h_distance=np.float32),\n",
    "                       kwargs=dict())\n",
    "\n",
    "    df = df.apply_rows(day_of_the_week_kernel,\n",
    "                       incols=['day', 'month', 'year'],\n",
    "                       outcols=dict(day_of_week=np.float32),\n",
    "                       kwargs=dict())\n",
    "\n",
    "\n",
    "    df['is_weekend'] = (df['day_of_week']<2).astype(\"int32\")\n",
    "    return df"
   ]
  },
  {
   "cell_type": "code",
   "execution_count": 13,
   "metadata": {},
   "outputs": [
    {
     "name": "stdout",
     "output_type": "stream",
     "text": [
      "CPU times: user 2.6 s, sys: 97.1 ms, total: 2.7 s\n",
      "Wall time: 1min 3s\n"
     ]
    }
   ],
   "source": [
    "%%time\n",
    "\n",
    "# actually add the features\n",
    "taxi_df = taxi_df.map_partitions(add_features).persist()\n",
    "done = distributed.wait(taxi_df)\n",
    "# inspect the result\n",
    "# taxi_df.head().to_pandas()"
   ]
  },
  {
   "cell_type": "code",
   "execution_count": 14,
   "metadata": {},
   "outputs": [
    {
     "data": {
      "image/png": "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\n",
      "text/plain": [
       "<Figure size 432x288 with 1 Axes>"
      ]
     },
     "metadata": {
      "needs_background": "light"
     },
     "output_type": "display_data"
    }
   ],
   "source": [
    "%matplotlib inline\n",
    "taxi_df.groupby('hour').fare_amount.mean().compute().to_pandas().sort_index().plot(legend=True);"
   ]
  },
  {
   "cell_type": "code",
   "execution_count": 15,
   "metadata": {},
   "outputs": [
    {
     "name": "stdout",
     "output_type": "stream",
     "text": [
      "CPU times: user 496 ms, sys: 15 ms, total: 511 ms\n",
      "Wall time: 1.35 s\n"
     ]
    }
   ],
   "source": [
    "%%time\n",
    "\n",
    "X_train = taxi_df.query('day < 25').persist()\n",
    "\n",
    "# create a Y_train ddf with just the target variable\n",
    "Y_train = X_train[['fare_amount']].persist()\n",
    "# drop the target variable from the training ddf\n",
    "X_train = X_train[X_train.columns.difference(['fare_amount'])]\n",
    "\n",
    "# this wont return until all data is in GPU memory\n",
    "done = distributed.wait([X_train, Y_train])"
   ]
  },
  {
   "cell_type": "code",
   "execution_count": 16,
   "metadata": {},
   "outputs": [
    {
     "name": "stdout",
     "output_type": "stream",
     "text": [
      "CPU times: user 41.8 ms, sys: 9.87 ms, total: 51.7 ms\n",
      "Wall time: 12.8 s\n"
     ]
    }
   ],
   "source": [
    "%%time\n",
    "\n",
    "params = {\n",
    "    'learning_rate'  : 0.3,\n",
    "    'max_depth'      : 8,\n",
    "    'objective'      : 'reg:squarederror',\n",
    "    'subsample'      : 0.6,\n",
    "    'gamma'          : 1,\n",
    "    'silent'         : True,\n",
    "    'verbose_eval'   : True,\n",
    "    'tree_method'    :'gpu_hist'\n",
    "}\n",
    "\n",
    "trained_model = dxgb.train(client, params, X_train, Y_train, num_boost_round=100)"
   ]
  },
  {
   "cell_type": "code",
   "execution_count": 17,
   "metadata": {},
   "outputs": [],
   "source": [
    "def drop_empty_partitions(df):\n",
    "    lengths = df.map_partitions(len).compute()\n",
    "    nonempty = [length > 0 for length in lengths]\n",
    "    return df.partitions[nonempty]"
   ]
  },
  {
   "cell_type": "code",
   "execution_count": 18,
   "metadata": {},
   "outputs": [],
   "source": [
    "X_test = taxi_df.query('day >= 25').persist()\n",
    "X_test = drop_empty_partitions(X_test)\n",
    "\n",
    "# Create Y_test with just the fare amount\n",
    "Y_test = X_test[['fare_amount']]\n",
    "\n",
    "# Drop the fare amount from X_test\n",
    "X_test = X_test[X_test.columns.difference(['fare_amount'])]\n",
    "\n",
    "# display test set size\n",
    "# len(X_test)"
   ]
  },
  {
   "cell_type": "code",
   "execution_count": 20,
   "metadata": {},
   "outputs": [],
   "source": [
    "# generate predictions on the test set\n",
    "\n",
    "Y_test['prediction'] = dxgb.predict(client, trained_model, X_test)"
   ]
  },
  {
   "cell_type": "code",
   "execution_count": 21,
   "metadata": {},
   "outputs": [
    {
     "data": {
      "text/html": [
       "<div>\n",
       "<style scoped>\n",
       "    .dataframe tbody tr th:only-of-type {\n",
       "        vertical-align: middle;\n",
       "    }\n",
       "\n",
       "    .dataframe tbody tr th {\n",
       "        vertical-align: top;\n",
       "    }\n",
       "\n",
       "    .dataframe thead th {\n",
       "        text-align: right;\n",
       "    }\n",
       "</style>\n",
       "<table border=\"1\" class=\"dataframe\">\n",
       "  <thead>\n",
       "    <tr style=\"text-align: right;\">\n",
       "      <th></th>\n",
       "      <th>fare_amount</th>\n",
       "      <th>prediction</th>\n",
       "      <th>squared_error</th>\n",
       "    </tr>\n",
       "  </thead>\n",
       "  <tbody>\n",
       "    <tr>\n",
       "      <th>176</th>\n",
       "      <td>9.0</td>\n",
       "      <td>8.966239</td>\n",
       "      <td>0.001140</td>\n",
       "    </tr>\n",
       "    <tr>\n",
       "      <th>177</th>\n",
       "      <td>41.0</td>\n",
       "      <td>39.317680</td>\n",
       "      <td>2.830199</td>\n",
       "    </tr>\n",
       "    <tr>\n",
       "      <th>178</th>\n",
       "      <td>9.0</td>\n",
       "      <td>8.826855</td>\n",
       "      <td>0.029979</td>\n",
       "    </tr>\n",
       "    <tr>\n",
       "      <th>179</th>\n",
       "      <td>4.5</td>\n",
       "      <td>4.247752</td>\n",
       "      <td>0.063629</td>\n",
       "    </tr>\n",
       "    <tr>\n",
       "      <th>180</th>\n",
       "      <td>9.0</td>\n",
       "      <td>8.741354</td>\n",
       "      <td>0.066898</td>\n",
       "    </tr>\n",
       "  </tbody>\n",
       "</table>\n",
       "</div>"
      ],
      "text/plain": [
       "     fare_amount  prediction  squared_error\n",
       "176          9.0    8.966239       0.001140\n",
       "177         41.0   39.317680       2.830199\n",
       "178          9.0    8.826855       0.029979\n",
       "179          4.5    4.247752       0.063629\n",
       "180          9.0    8.741354       0.066898"
      ]
     },
     "execution_count": 21,
     "metadata": {},
     "output_type": "execute_result"
    }
   ],
   "source": [
    "Y_test['squared_error'] = (Y_test['prediction'] - Y_test['fare_amount'])**2\n",
    "\n",
    "# inspect the results to make sure our calculation looks right\n",
    "Y_test.head().to_pandas()"
   ]
  },
  {
   "cell_type": "code",
   "execution_count": null,
   "metadata": {},
   "outputs": [],
   "source": [
    "# compute the actual RMSE over the full test set\n",
    "RMSE = Y_test.squared_error.mean().compute()\n",
    "math.sqrt(RMSE)"
   ]
  },
  {
   "cell_type": "code",
   "execution_count": null,
   "metadata": {},
   "outputs": [],
   "source": []
  }
 ],
 "metadata": {
  "kernelspec": {
   "display_name": "Python 3",
   "language": "python",
   "name": "python3"
  },
  "language_info": {
   "codemirror_mode": {
    "name": "ipython",
    "version": 3
   },
   "file_extension": ".py",
   "mimetype": "text/x-python",
   "name": "python",
   "nbconvert_exporter": "python",
   "pygments_lexer": "ipython3",
   "version": "3.7.4"
  }
 },
 "nbformat": 4,
 "nbformat_minor": 4
}
